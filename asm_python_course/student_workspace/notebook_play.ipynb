{
 "cells": [
  {
   "metadata": {},
   "cell_type": "markdown",
   "source": "### You can write code in each cell below. Each cell can be run by itself",
   "id": "719e8cbf69618f85"
  },
  {
   "cell_type": "code",
   "id": "initial_id",
   "metadata": {
    "collapsed": true,
    "ExecuteTime": {
     "end_time": "2024-07-11T21:58:31.970728Z",
     "start_time": "2024-07-11T21:58:31.967963Z"
    }
   },
   "source": [
    "import random\n",
    "\n",
    "# simple Hello World\n",
    "print(\"Hello World\")\n"
   ],
   "outputs": [
    {
     "name": "stdout",
     "output_type": "stream",
     "text": [
      "Hello World\n"
     ]
    }
   ],
   "execution_count": 2
  },
  {
   "metadata": {
    "ExecuteTime": {
     "end_time": "2024-07-11T21:58:46.878882Z",
     "start_time": "2024-07-11T21:58:46.875111Z"
    }
   },
   "cell_type": "code",
   "source": [
    "# Hello World in 5 different languages  \n",
    "hello_world = {\n",
    "    \"English\": \"Hello, World!\",\n",
    "    \"Spanish\": \"¡Hola, Mundo!\",\n",
    "    \"French\": \"Bonjour, le Monde!\",\n",
    "    \"German\": \"Hallo, Welt!\",\n",
    "    \"Japanese\": \"こんにちは、世界！\"\n",
    "}\n",
    "\n",
    "# Choose a random language and its \"Hello, World!\" phrase\n",
    "random_language, random_greeting = random.choice(list(hello_world.items()))\n",
    "print(f\"Random greeting: {random_greeting} (in {random_language})\")"
   ],
   "id": "18ffce1ec25a1866",
   "outputs": [
    {
     "name": "stdout",
     "output_type": "stream",
     "text": [
      "Random greeting: Bonjour, le Monde! (in French)\n"
     ]
    }
   ],
   "execution_count": 8
  },
  {
   "metadata": {},
   "cell_type": "code",
   "outputs": [],
   "execution_count": null,
   "source": "",
   "id": "ad9ee3a3815c617f"
  },
  {
   "metadata": {},
   "cell_type": "code",
   "outputs": [],
   "execution_count": null,
   "source": "",
   "id": "42f516bcc7cac3aa"
  },
  {
   "metadata": {},
   "cell_type": "code",
   "outputs": [],
   "execution_count": null,
   "source": "",
   "id": "90654685965b62d4"
  },
  {
   "metadata": {},
   "cell_type": "code",
   "outputs": [],
   "execution_count": null,
   "source": "",
   "id": "8a8e114b2c5678dc"
  }
 ],
 "metadata": {
  "kernelspec": {
   "display_name": "Python 3",
   "language": "python",
   "name": "python3"
  },
  "language_info": {
   "codemirror_mode": {
    "name": "ipython",
    "version": 2
   },
   "file_extension": ".py",
   "mimetype": "text/x-python",
   "name": "python",
   "nbconvert_exporter": "python",
   "pygments_lexer": "ipython2",
   "version": "2.7.6"
  }
 },
 "nbformat": 4,
 "nbformat_minor": 5
}
